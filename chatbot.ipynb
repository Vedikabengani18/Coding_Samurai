{
  "nbformat": 4,
  "nbformat_minor": 0,
  "metadata": {
    "colab": {
      "provenance": []
    },
    "kernelspec": {
      "name": "python3",
      "display_name": "Python 3"
    },
    "language_info": {
      "name": "python"
    }
  },
  "cells": [
    {
      "cell_type": "code",
      "source": [
        "import random\n",
        "import nltk\n",
        "from nltk.chat.util import Chat, reflections\n",
        "\n",
        "nltk.download('punkt')  # Download the 'punkt' tokenizer data for NLTK\n",
        "\n",
        "\n"
      ],
      "metadata": {
        "colab": {
          "base_uri": "https://localhost:8080/"
        },
        "id": "BJibMmmN-MDt",
        "outputId": "afd4a246-b49b-49f3-b539-c920e4556fea"
      },
      "execution_count": 21,
      "outputs": [
        {
          "output_type": "stream",
          "name": "stderr",
          "text": [
            "[nltk_data] Downloading package punkt to /root/nltk_data...\n",
            "[nltk_data]   Package punkt is already up-to-date!\n"
          ]
        },
        {
          "output_type": "execute_result",
          "data": {
            "text/plain": [
              "True"
            ]
          },
          "metadata": {},
          "execution_count": 21
        }
      ]
    },
    {
      "cell_type": "code",
      "source": [
        "# Define a dictionary with patterns as keys and responses as values\n",
        "responses = {\n",
        "    \"jai hind\": \"Jai Hind!\",\n",
        "    \"hello\": \"Hello! How can I assist you today?\",\n",
        "    \"hi\": \"Hi there!\",\n",
        "    \"hey\": \"Hey! What can I help you with?\",\n",
        "    \"how are you\": \"I'm just Vedika's Chatbot. How can I assist you?\",\n",
        "    \"what's your name\": \"You can call me Vedika's Chatbot.\",\n",
        "    \"who are you\": \"I'm Vedika's Chatbot here to help you.\",\n",
        "    \"weather outside\": \"I'm Vedika's Chatbot. I don't have access to real-time weather information.\",\n",
        "    \"did you have food\": \"No, I'm just a program. I don't eat.\",\n",
        "    \"are you human\":\"No\",\n",
        "    \"are you a robot?\":\"yes\",\n",
        "    \"how old are you\":\"I'm just Vedika's Chatbot.\",\n",
        "    \"who made you\":\"Vedika\",\n",
        "}"
      ],
      "metadata": {
        "id": "YGhIlLEE-wK7"
      },
      "execution_count": 26,
      "outputs": []
    },
    {
      "cell_type": "code",
      "source": [
        "# Function to get the chatbot response\n",
        "def get_response(user_input):\n",
        "    user_input = user_input.lower()  # Convert user input to lowercase\n",
        "    response = responses.get(user_input, \"I'm not sure I understand. Can you please ask another question?\")\n",
        "    return response\n",
        "\n",
        "# Define a function to interact with the chatbot\n",
        "def chatbot():\n",
        "    print(\"Hello! I'm Vedika's Chatbot. You can type 'q' to end the conversation.\")\n",
        "    while True:\n",
        "        user_input = input(\"You: \")  # Get user input\n",
        "        if user_input.lower() == 'q':  # Check if the user wants to exit\n",
        "            print(\"Chatbot: Goodbye!\")  # Display a goodbye message\n",
        "            break\n",
        "        response = get_response(user_input)  # Get the chatbot's response\n",
        "        print(\"Chatbot:\", response)  # Display the chatbot's response\n",
        "\n",
        "# Start the conversation\n",
        "chatbot()\n"
      ],
      "metadata": {
        "colab": {
          "base_uri": "https://localhost:8080/"
        },
        "id": "QGkncgGGB0sV",
        "outputId": "33d13145-133d-4c38-fa2e-5f493ab1ed0f"
      },
      "execution_count": 27,
      "outputs": [
        {
          "output_type": "stream",
          "name": "stdout",
          "text": [
            "Hello! I'm Vedika's Chatbot. You can type 'q' to end the conversation.\n",
            "You: jai hind\n",
            "Chatbot: Jai Hind!\n",
            "You: hello\n",
            "Chatbot: Hello! How can I assist you today?\n",
            "You: how are you\n",
            "Chatbot: I'm just Vedika's Chatbot. How can I assist you?\n",
            "You: how old are you\n",
            "Chatbot: I'm just Vedika's Chatbot.\n",
            "You: weather outside\n",
            "Chatbot: I'm Vedika's Chatbot. I don't have access to real-time weather information.\n",
            "You: who made you\n",
            "Chatbot: Vedika\n",
            "You: q\n",
            "Chatbot: Goodbye!\n"
          ]
        }
      ]
    },
    {
      "cell_type": "code",
      "source": [],
      "metadata": {
        "id": "wdyZBI8EB3Eg"
      },
      "execution_count": null,
      "outputs": []
    }
  ]
}